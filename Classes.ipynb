{
  "nbformat": 4,
  "nbformat_minor": 0,
  "metadata": {
    "colab": {
      "provenance": [],
      "authorship_tag": "ABX9TyN5uMDzzoRNmYxKWbAfvW1w",
      "include_colab_link": true
    },
    "kernelspec": {
      "name": "python3",
      "display_name": "Python 3"
    },
    "language_info": {
      "name": "python"
    }
  },
  "cells": [
    {
      "cell_type": "markdown",
      "metadata": {
        "id": "view-in-github",
        "colab_type": "text"
      },
      "source": [
        "<a href=\"https://colab.research.google.com/github/Mkhan512/Mkhan512/blob/main/Classes.ipynb\" target=\"_parent\"><img src=\"https://colab.research.google.com/assets/colab-badge.svg\" alt=\"Open In Colab\"/></a>"
      ]
    },
    {
      "cell_type": "code",
      "source": [
        "class MyClass:\n",
        "  x = 5\n",
        "  y = 6\n",
        "# create object to use myclass\n",
        "p1 = MyClass()\n",
        "print(p1.y)"
      ],
      "metadata": {
        "colab": {
          "base_uri": "https://localhost:8080/"
        },
        "id": "abSOv4bxF8T8",
        "outputId": "8a02ab0f-1eb8-4984-8269-bbfa106e1942"
      },
      "execution_count": 3,
      "outputs": [
        {
          "output_type": "stream",
          "name": "stdout",
          "text": [
            "6\n"
          ]
        }
      ]
    },
    {
      "cell_type": "code",
      "source": [
        "#use the __init__() function to assign values for name and age\n",
        "class Person:\n",
        "  def __init__(self, name, age):\n",
        "    self.name = name\n",
        "    self.age = age\n",
        "\n",
        "p1 = Person(\"John\", 36)\n",
        "\n",
        "print(p1.name)\n",
        "print(p1.age)"
      ],
      "metadata": {
        "colab": {
          "base_uri": "https://localhost:8080/"
        },
        "id": "SI8gjxLqjR8E",
        "outputId": "3ce261fa-4bce-4ea2-c8e2-2cc2f88e3e59"
      },
      "execution_count": 1,
      "outputs": [
        {
          "output_type": "stream",
          "name": "stdout",
          "text": [
            "John\n",
            "36\n"
          ]
        }
      ]
    },
    {
      "cell_type": "code",
      "source": [
        "class Car:\n",
        "  def __init__(vehical,name,model, company):\n",
        "    vehical.name = name\n",
        "    vehical.model = model\n",
        "    vehical.company = company\n",
        "\n",
        "car_660 = Car(\"Alto\", 2024, \"Suzuki\")\n",
        "\n",
        "print(f\"{car_660.name,car_660.model,car_660.company}\")\n",
        "print(car_660.name)\n",
        "print(car_660.company)\n",
        "print(car_660.model)\n"
      ],
      "metadata": {
        "colab": {
          "base_uri": "https://localhost:8080/"
        },
        "id": "dWDzjGsSjnha",
        "outputId": "0a764ab4-a857-45f1-8d5b-204a7cb87796"
      },
      "execution_count": 2,
      "outputs": [
        {
          "output_type": "stream",
          "name": "stdout",
          "text": [
            "('Alto', 2024, 'Suzuki')\n",
            "Alto\n",
            "Suzuki\n",
            "2024\n"
          ]
        }
      ]
    },
    {
      "cell_type": "code",
      "source": [
        "class Student:\n",
        "  def __init__(self, name, roll_no):\n",
        "    self.name = name\n",
        "    self.roll_no = roll_no\n",
        "a1 = Student(\"Ahmed\", 123)\n",
        "print(a1.name)\n",
        "print(a1.roll_no)\n",
        "print(a1)"
      ],
      "metadata": {
        "colab": {
          "base_uri": "https://localhost:8080/"
        },
        "id": "37W39UFLtlE8",
        "outputId": "30699ed7-fb1e-4512-ef4e-cdeea08ddc4f"
      },
      "execution_count": 15,
      "outputs": [
        {
          "output_type": "stream",
          "name": "stdout",
          "text": [
            "Ahmed\n",
            "123\n",
            "<__main__.Student object at 0x7946ddfbeb60>\n"
          ]
        }
      ]
    },
    {
      "cell_type": "code",
      "source": [
        "#The string representation of an object WITH the __str__() function\n",
        "class Teacher:\n",
        "  def __init__(self, name, bps):\n",
        "    self.name = name\n",
        "    self.bps = bps\n",
        "\n",
        "  def __str__(self):\n",
        "    return f\"{self.name}({self.bps})\"\n",
        "a1 = Teacher(\"Waseem\", 17)\n",
        "print(a1)"
      ],
      "metadata": {
        "colab": {
          "base_uri": "https://localhost:8080/"
        },
        "id": "1nYmOT8W4ryB",
        "outputId": "52f23bf6-8262-40d2-da95-355703c551d0"
      },
      "execution_count": 38,
      "outputs": [
        {
          "output_type": "stream",
          "name": "stdout",
          "text": [
            "Waseem(17)\n"
          ]
        }
      ]
    },
    {
      "cell_type": "code",
      "source": [
        "## Object Methods\n",
        "# Methods in objects are functions that belongs to objects.\n",
        "\n",
        "class Person:\n",
        "  def __init__(self, name, age):\n",
        "    self.name = name\n",
        "    self.age = age\n",
        "\n",
        "  def myfunc(self):\n",
        "    print(f\"Hello My Name is {self.name} and am {self.age} years old\")\n",
        "\n",
        "p1 = Person(\"John\", 36)\n",
        "p1.myfunc()\n",
        "# Note: The self parameter is a reference to the current instance of the class, <br/> and is used to access variables that belong to the class.\n"
      ],
      "metadata": {
        "colab": {
          "base_uri": "https://localhost:8080/"
        },
        "id": "f3jTSY826pFH",
        "outputId": "36f05091-6190-42f8-8dae-a8f676b05abd"
      },
      "execution_count": 45,
      "outputs": [
        {
          "output_type": "stream",
          "name": "stdout",
          "text": [
            "Hello My Name is John and am 36 years old\n"
          ]
        }
      ]
    }
  ]
}