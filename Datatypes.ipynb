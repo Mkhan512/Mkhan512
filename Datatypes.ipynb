{
  "nbformat": 4,
  "nbformat_minor": 0,
  "metadata": {
    "colab": {
      "provenance": [],
      "authorship_tag": "ABX9TyOqeP6aY6VT02hxiSa4fvs0",
      "include_colab_link": true
    },
    "kernelspec": {
      "name": "python3",
      "display_name": "Python 3"
    },
    "language_info": {
      "name": "python"
    }
  },
  "cells": [
    {
      "cell_type": "markdown",
      "metadata": {
        "id": "view-in-github",
        "colab_type": "text"
      },
      "source": [
        "<a href=\"https://colab.research.google.com/github/Mkhan512/Mkhan512/blob/main/Datatypes.ipynb\" target=\"_parent\"><img src=\"https://colab.research.google.com/assets/colab-badge.svg\" alt=\"Open In Colab\"/></a>"
      ]
    },
    {
      "cell_type": "code",
      "source": [
        "stdents_details={}\n"
      ],
      "metadata": {
        "id": "uiyW9Nor8eA0"
      },
      "execution_count": null,
      "outputs": []
    },
    {
      "cell_type": "code",
      "source": [
        "names=(1:\"ALi\", 2:\"Asif\", 3:\"subhan\")\n",
        "print(names[false])"
      ],
      "metadata": {
        "colab": {
          "base_uri": "https://localhost:8080/",
          "height": 109
        },
        "id": "3iqGKdgq55ze",
        "outputId": "d20e98d8-4e27-4f6a-aee0-34c6411c3054"
      },
      "execution_count": null,
      "outputs": [
        {
          "output_type": "error",
          "ename": "SyntaxError",
          "evalue": "invalid syntax (<ipython-input-8-2818cffbbd58>, line 1)",
          "traceback": [
            "\u001b[0;36m  File \u001b[0;32m\"<ipython-input-8-2818cffbbd58>\"\u001b[0;36m, line \u001b[0;32m1\u001b[0m\n\u001b[0;31m    names=(1:\"ALi\", 2:\"Asif\", 3:\"subhan\")\u001b[0m\n\u001b[0m            ^\u001b[0m\n\u001b[0;31mSyntaxError\u001b[0m\u001b[0;31m:\u001b[0m invalid syntax\n"
          ]
        }
      ]
    },
    {
      "cell_type": "code",
      "source": [
        "#code_08Class.ipynb\n",
        "\n",
        "students : list[str ]= [\"Alice\", \"Bob\", \"Charlie\"]\n",
        "scores : list[int] = [85, 92, 78]\n",
        "index : int = students.index(\"Alice\")\n",
        "score : int = scores[index]\n",
        "scores : dict{str,int} = {\n",
        "    \"Alice\": 85,\n",
        "    \"Bob\": 92,\n",
        "    \"Charlie\": 78\n",
        "}"
      ],
      "metadata": {
        "colab": {
          "base_uri": "https://localhost:8080/",
          "height": 109
        },
        "id": "y9CE0RBM042e",
        "outputId": "d4484586-49b1-48d9-d205-3649d48c6b35"
      },
      "execution_count": null,
      "outputs": [
        {
          "output_type": "error",
          "ename": "SyntaxError",
          "evalue": "invalid syntax (<ipython-input-4-ab8c654e522c>, line 7)",
          "traceback": [
            "\u001b[0;36m  File \u001b[0;32m\"<ipython-input-4-ab8c654e522c>\"\u001b[0;36m, line \u001b[0;32m7\u001b[0m\n\u001b[0;31m    scores : dict{str,int} = {\u001b[0m\n\u001b[0m                 ^\u001b[0m\n\u001b[0;31mSyntaxError\u001b[0m\u001b[0;31m:\u001b[0m invalid syntax\n"
          ]
        }
      ]
    },
    {
      "cell_type": "code",
      "execution_count": null,
      "metadata": {
        "colab": {
          "base_uri": "https://localhost:8080/"
        },
        "id": "rkJpg_6it0tA",
        "outputId": "b87f268b-2aa5-46a5-bafa-f25cf1d9a385",
        "collapsed": true
      },
      "outputs": [
        {
          "output_type": "stream",
          "name": "stdout",
          "text": [
            " hello world\n"
          ]
        }
      ],
      "source": [
        "print (\" hello world\")\n"
      ]
    },
    {
      "cell_type": "code",
      "source": [
        "def print_multiplication_table():\n",
        "    # Define the range of numbers for the table\n",
        "    start = 2\n",
        "    end = 10\n",
        "\n",
        "    # Print the header row\n",
        "    header = \" \" * 5  # Initial spacing for the header row\n",
        "    for i in range(start, end + 1):\n",
        "        header += f\"{i:4}\"\n",
        "    print(header)\n",
        "\n",
        "    # Print the separator line\n",
        "    print(\"-\" * len(header))\n",
        "\n",
        "    # Print the table rows\n",
        "    for i in range(start, end + 1):\n",
        "        row = f\"{i:2} |\"  # Row label\n",
        "        for j in range(start, end + 1):\n",
        "            row += f\"{i * j:4}\"\n",
        "        print(row)\n",
        "\n",
        "# Call the function to print the table\n",
        "print_multiplication_table()\n"
      ],
      "metadata": {
        "id": "T9Gq6bMnm3q0",
        "colab": {
          "base_uri": "https://localhost:8080/"
        },
        "outputId": "4f9e3a7f-78e9-4372-ce16-6f430bba5644"
      },
      "execution_count": null,
      "outputs": [
        {
          "output_type": "stream",
          "name": "stdout",
          "text": [
            "        2   3   4   5   6   7   8   9  10\n",
            "-----------------------------------------\n",
            " 2 |   4   6   8  10  12  14  16  18  20\n",
            " 3 |   6   9  12  15  18  21  24  27  30\n",
            " 4 |   8  12  16  20  24  28  32  36  40\n",
            " 5 |  10  15  20  25  30  35  40  45  50\n",
            " 6 |  12  18  24  30  36  42  48  54  60\n",
            " 7 |  14  21  28  35  42  49  56  63  70\n",
            " 8 |  16  24  32  40  48  56  64  72  80\n",
            " 9 |  18  27  36  45  54  63  72  81  90\n",
            "10 |  20  30  40  50  60  70  80  90 100\n"
          ]
        }
      ]
    },
    {
      "cell_type": "code",
      "source": [
        "# for loop draw a table 2 to 10\n",
        "def print_multiplication_table():\n",
        "    # Define the range of numbers for the table\n",
        "    start = 2\n",
        "    end = 10\n",
        "\n",
        "    # Print the header row\n",
        "    header = \" \" * 4  # Initial spacing for the header row\n",
        "    for i in range(start, end + 1):\n",
        "        header += f\"{i:4}\"\n",
        "    print(header)\n",
        "\n",
        "    # Print the separator line\n",
        "    print(\"-\" * len(header))\n",
        "\n",
        "    # Print the table rows\n",
        "    for i in range(start, end + 1):\n",
        "        row = f\"{i:2} |\"  # Row label\n",
        "        for j in range(start, end + 1):\n",
        "            row += f\"{i * j:4}\"\n",
        "        print(row)\n",
        "\n",
        "# Call the function to print the table\n",
        "print_multiplication_table()\n"
      ],
      "metadata": {
        "colab": {
          "base_uri": "https://localhost:8080/"
        },
        "id": "WnqUuazXlcX_",
        "outputId": "1f27a4f5-2e4b-4b89-866d-37738ba9f80a"
      },
      "execution_count": null,
      "outputs": [
        {
          "output_type": "stream",
          "name": "stdout",
          "text": [
            "       2   3   4   5   6   7   8   9  10\n",
            "----------------------------------------\n",
            " 2 |   4   6   8  10  12  14  16  18  20\n",
            " 3 |   6   9  12  15  18  21  24  27  30\n",
            " 4 |   8  12  16  20  24  28  32  36  40\n",
            " 5 |  10  15  20  25  30  35  40  45  50\n",
            " 6 |  12  18  24  30  36  42  48  54  60\n",
            " 7 |  14  21  28  35  42  49  56  63  70\n",
            " 8 |  16  24  32  40  48  56  64  72  80\n",
            " 9 |  18  27  36  45  54  63  72  81  90\n",
            "10 |  20  30  40  50  60  70  80  90 100\n"
          ]
        }
      ]
    },
    {
      "cell_type": "code",
      "source": [
        "# break loop\n",
        "for table_no in range(2,11):\n",
        "  for inner_val in range(1,11):\n",
        "    if (table_no == 3 and inner_val >5):\n",
        "     continue\n",
        "    print(f\"{table_no} X {inner_val} ={table_no * inner_val}\")"
      ],
      "metadata": {
        "colab": {
          "base_uri": "https://localhost:8080/"
        },
        "id": "D8NgcKjfQZzP",
        "outputId": "8eea1cee-f609-4d05-9e0c-89b40f3ee5ee"
      },
      "execution_count": null,
      "outputs": [
        {
          "output_type": "stream",
          "name": "stdout",
          "text": [
            "2 X 1 =2\n",
            "2 X 2 =4\n",
            "2 X 3 =6\n",
            "2 X 4 =8\n",
            "2 X 5 =10\n",
            "2 X 6 =12\n",
            "2 X 7 =14\n",
            "2 X 8 =16\n",
            "2 X 9 =18\n",
            "2 X 10 =20\n",
            "3 X 1 =3\n",
            "3 X 2 =6\n",
            "3 X 3 =9\n",
            "3 X 4 =12\n",
            "3 X 5 =15\n",
            "4 X 1 =4\n",
            "4 X 2 =8\n",
            "4 X 3 =12\n",
            "4 X 4 =16\n",
            "4 X 5 =20\n",
            "4 X 6 =24\n",
            "4 X 7 =28\n",
            "4 X 8 =32\n",
            "4 X 9 =36\n",
            "4 X 10 =40\n",
            "5 X 1 =5\n",
            "5 X 2 =10\n",
            "5 X 3 =15\n",
            "5 X 4 =20\n",
            "5 X 5 =25\n",
            "5 X 6 =30\n",
            "5 X 7 =35\n",
            "5 X 8 =40\n",
            "5 X 9 =45\n",
            "5 X 10 =50\n",
            "6 X 1 =6\n",
            "6 X 2 =12\n",
            "6 X 3 =18\n",
            "6 X 4 =24\n",
            "6 X 5 =30\n",
            "6 X 6 =36\n",
            "6 X 7 =42\n",
            "6 X 8 =48\n",
            "6 X 9 =54\n",
            "6 X 10 =60\n",
            "7 X 1 =7\n",
            "7 X 2 =14\n",
            "7 X 3 =21\n",
            "7 X 4 =28\n",
            "7 X 5 =35\n",
            "7 X 6 =42\n",
            "7 X 7 =49\n",
            "7 X 8 =56\n",
            "7 X 9 =63\n",
            "7 X 10 =70\n",
            "8 X 1 =8\n",
            "8 X 2 =16\n",
            "8 X 3 =24\n",
            "8 X 4 =32\n",
            "8 X 5 =40\n",
            "8 X 6 =48\n",
            "8 X 7 =56\n",
            "8 X 8 =64\n",
            "8 X 9 =72\n",
            "8 X 10 =80\n",
            "9 X 1 =9\n",
            "9 X 2 =18\n",
            "9 X 3 =27\n",
            "9 X 4 =36\n",
            "9 X 5 =45\n",
            "9 X 6 =54\n",
            "9 X 7 =63\n",
            "9 X 8 =72\n",
            "9 X 9 =81\n",
            "9 X 10 =90\n",
            "10 X 1 =10\n",
            "10 X 2 =20\n",
            "10 X 3 =30\n",
            "10 X 4 =40\n",
            "10 X 5 =50\n",
            "10 X 6 =60\n",
            "10 X 7 =70\n",
            "10 X 8 =80\n",
            "10 X 9 =90\n",
            "10 X 10 =100\n"
          ]
        }
      ]
    },
    {
      "cell_type": "code",
      "source": [
        "# 2 to 10 Table print in for loop\n",
        "for table_no in range(2,11):\n",
        "  for inner_val in range(1,11):\n",
        "    print(f\"{table_no} X {inner_val} ={table_no * inner_val}\")\n"
      ],
      "metadata": {
        "colab": {
          "base_uri": "https://localhost:8080/"
        },
        "id": "PJecgmcKDGmN",
        "outputId": "06959cf2-e15e-43be-ad8f-2c8d00062aac"
      },
      "execution_count": null,
      "outputs": [
        {
          "output_type": "stream",
          "name": "stdout",
          "text": [
            "2 X 1 =2\n",
            "2 X 2 =4\n",
            "2 X 3 =6\n",
            "2 X 4 =8\n",
            "2 X 5 =10\n",
            "2 X 6 =12\n",
            "2 X 7 =14\n",
            "2 X 8 =16\n",
            "2 X 9 =18\n",
            "2 X 10 =20\n",
            "3 X 1 =3\n",
            "3 X 2 =6\n",
            "3 X 3 =9\n",
            "3 X 4 =12\n",
            "3 X 5 =15\n",
            "3 X 6 =18\n",
            "3 X 7 =21\n",
            "3 X 8 =24\n",
            "3 X 9 =27\n",
            "3 X 10 =30\n",
            "4 X 1 =4\n",
            "4 X 2 =8\n",
            "4 X 3 =12\n",
            "4 X 4 =16\n",
            "4 X 5 =20\n",
            "4 X 6 =24\n",
            "4 X 7 =28\n",
            "4 X 8 =32\n",
            "4 X 9 =36\n",
            "4 X 10 =40\n",
            "5 X 1 =5\n",
            "5 X 2 =10\n",
            "5 X 3 =15\n",
            "5 X 4 =20\n",
            "5 X 5 =25\n",
            "5 X 6 =30\n",
            "5 X 7 =35\n",
            "5 X 8 =40\n",
            "5 X 9 =45\n",
            "5 X 10 =50\n",
            "6 X 1 =6\n",
            "6 X 2 =12\n",
            "6 X 3 =18\n",
            "6 X 4 =24\n",
            "6 X 5 =30\n",
            "6 X 6 =36\n",
            "6 X 7 =42\n",
            "6 X 8 =48\n",
            "6 X 9 =54\n",
            "6 X 10 =60\n",
            "7 X 1 =7\n",
            "7 X 2 =14\n",
            "7 X 3 =21\n",
            "7 X 4 =28\n",
            "7 X 5 =35\n",
            "7 X 6 =42\n",
            "7 X 7 =49\n",
            "7 X 8 =56\n",
            "7 X 9 =63\n",
            "7 X 10 =70\n",
            "8 X 1 =8\n",
            "8 X 2 =16\n",
            "8 X 3 =24\n",
            "8 X 4 =32\n",
            "8 X 5 =40\n",
            "8 X 6 =48\n",
            "8 X 7 =56\n",
            "8 X 8 =64\n",
            "8 X 9 =72\n",
            "8 X 10 =80\n",
            "9 X 1 =9\n",
            "9 X 2 =18\n",
            "9 X 3 =27\n",
            "9 X 4 =36\n",
            "9 X 5 =45\n",
            "9 X 6 =54\n",
            "9 X 7 =63\n",
            "9 X 8 =72\n",
            "9 X 9 =81\n",
            "9 X 10 =90\n",
            "10 X 1 =10\n",
            "10 X 2 =20\n",
            "10 X 3 =30\n",
            "10 X 4 =40\n",
            "10 X 5 =50\n",
            "10 X 6 =60\n",
            "10 X 7 =70\n",
            "10 X 8 =80\n",
            "10 X 9 =90\n",
            "10 X 10 =100\n"
          ]
        }
      ]
    },
    {
      "cell_type": "code",
      "source": [
        "friends: str=[\"Ali\", \"Ahmed\"\",\"\"Zubair\"]\n",
        "for friend in friends:\n",
        "  print(friends)\n",
        "\n"
      ],
      "metadata": {
        "colab": {
          "base_uri": "https://localhost:8080/"
        },
        "id": "4wqN5CdjzqJO",
        "outputId": "774bad9e-d610-42e6-ed65-ccbea7909a58"
      },
      "execution_count": null,
      "outputs": [
        {
          "output_type": "stream",
          "name": "stdout",
          "text": [
            "['Ali', 'Ahmed,Zubair']\n",
            "['Ali', 'Ahmed,Zubair']\n"
          ]
        }
      ]
    },
    {
      "cell_type": "code",
      "source": [
        "#slice Index Code\n",
        "students: list[str] =[\"Asim\", \"Naveed\",\"Zunair\",\"Junaid\", \"Naveed\"]\n",
        "print(f\"My Name is {students[1]}\")\n",
        "print(f\"Students Names are = {students[1:4]}\")\n",
        "\n",
        "# Shello copy example\n",
        "print(f\"Student list = {students[:]}\")\n",
        "\n",
        "numbers: list[int]= [1,2,3,4,5,6,7,7,8,9,10]\n",
        "print(f\" List is= {numbers[:-1:2]}\")\n",
        "print(f\"2nd list is= {numbers[:1:2]}\")"
      ],
      "metadata": {
        "colab": {
          "base_uri": "https://localhost:8080/"
        },
        "collapsed": true,
        "id": "JPEwr9CJy1xl",
        "outputId": "08b6744b-9bc9-4355-c284-cd7c0fd4a639"
      },
      "execution_count": null,
      "outputs": [
        {
          "output_type": "stream",
          "name": "stdout",
          "text": [
            "My Name is Naveed\n",
            "Students Names are = ['Naveed', 'Zunair', 'Junaid']\n",
            "Student list = ['Asim', 'Naveed', 'Zunair', 'Junaid', 'Naveed']\n",
            " List is= [1, 3, 5, 7, 8]\n",
            "2nd list is= [1]\n"
          ]
        }
      ]
    },
    {
      "cell_type": "code",
      "source": [
        "# difference between shallow copy and deep copy\n",
        "# SHALLOW COPY=\n",
        "\n",
        "old_list = [[1, 2, 3], [4, 5, 6], [7, 8, 'a']]\n",
        "new_list = old_list\n",
        "\n",
        "new_list[2][2] = 9\n",
        "\n",
        "print('Old List:', old_list)\n",
        "print('ID of Old List:', id(old_list))\n",
        "\n",
        "print('New List:', new_list)\n",
        "print('ID of New List:', id(new_list))\n",
        "\n",
        "#Got it! Here’s an example of how to create a shallow copy of a list in Python, but this time I’ll break it down into multiple lines for clarity:\n",
        "import copy\n",
        "\n",
        "# Original list\n",
        "original_list = [\n",
        "    [1, 2, 3],\n",
        "    [4, 5, 6],\n",
        "    [7, 8, 9]\n",
        "]\n",
        "\n",
        "# Creating a shallow copy\n",
        "shallow_copied_list = copy.copy(original_list)\n",
        "\n",
        "# Modifying the shallow copy\n",
        "shallow_copied_list[0][0] = 'X'\n",
        "\n",
        "print(\"Original list:\", original_list)\n",
        "print(\"Shallow copied list:\", shallow_copied_list)\n",
        "\n",
        "# Example of Deep Copy\n",
        "\n",
        "import copy\n",
        "\n",
        "old_list = [[1, 1, 1], [2, 2, 2], [3, 3, 3]]\n",
        "new_list = copy.deepcopy(old_list)\n",
        "\n",
        "old_list[1][0] = 'BB'\n",
        "print(\"Example of Deep Copy is =\")\n",
        "print(\"Old list:\", old_list)\n",
        "print(\"New list:\", new_list)\n"
      ],
      "metadata": {
        "colab": {
          "base_uri": "https://localhost:8080/"
        },
        "id": "1WtdOae8YIlA",
        "outputId": "ebb636f9-966b-4a2a-dd4d-e020c1846740"
      },
      "execution_count": null,
      "outputs": [
        {
          "output_type": "stream",
          "name": "stdout",
          "text": [
            "Old List: [[1, 2, 3], [4, 5, 6], [7, 8, 9]]\n",
            "ID of Old List: 134179346926848\n",
            "New List: [[1, 2, 3], [4, 5, 6], [7, 8, 9]]\n",
            "ID of New List: 134179346926848\n",
            "Original list: [['X', 2, 3], [4, 5, 6], [7, 8, 9]]\n",
            "Shallow copied list: [['X', 2, 3], [4, 5, 6], [7, 8, 9]]\n",
            "Example of Deep Copy is =\n",
            "Old list: [[1, 1, 1], ['BB', 2, 2], [3, 3, 3]]\n",
            "New list: [[1, 1, 1], [2, 2, 2], [3, 3, 3]]\n"
          ]
        }
      ]
    },
    {
      "cell_type": "code",
      "source": [
        "#nested List (2 dementional)\n",
        "students: list[str] = [[\"Amjid\", 65,78,89],[\"Naveed\", 85,90,95],[\"Zameer\", 75,88,99]]\n",
        "\n",
        "print(f\"lsit 1 =,{students[0][3]},\\nlist 2={students[1][2]}, \\nlist 3={students[2][0]}\")"
      ],
      "metadata": {
        "colab": {
          "base_uri": "https://localhost:8080/"
        },
        "id": "jCju8gbKFUa4",
        "outputId": "319a5324-e59a-4a43-8fba-804593076f6c"
      },
      "execution_count": null,
      "outputs": [
        {
          "output_type": "stream",
          "name": "stdout",
          "text": [
            "lsit 1 =,89,\n",
            "list 2=90, \n",
            "list 3=Zameer\n"
          ]
        }
      ]
    },
    {
      "cell_type": "code",
      "source": [
        "# 3 dementional List\n",
        "three_dem_list= [\n",
        "   [\n",
        "        [1, 2, 3],\n",
        "        [4, 5, 6],\n",
        "        [7, 8, 9]\n",
        "    ],\n",
        "    [\n",
        "        [10, 11, 12],\n",
        "        [13, 14, 15],\n",
        "        [16, 17, 18]\n",
        "    ],\n",
        "    [\n",
        "        [19, 20, 21],\n",
        "        [22, 23, 24],\n",
        "        [25, 26, 27]\n",
        "    ]\n",
        "]\n",
        "print(f\" {three_dem_list[0][0][2]}\\n{three_dem_list[1][1][1]}\\n{three_dem_list[2][1][2]}\")"
      ],
      "metadata": {
        "id": "XQqCpQMHIf6m",
        "colab": {
          "base_uri": "https://localhost:8080/"
        },
        "outputId": "fd6a8330-50c3-4408-9314-6955631378f6"
      },
      "execution_count": null,
      "outputs": [
        {
          "output_type": "stream",
          "name": "stdout",
          "text": [
            " 3\n",
            "14\n",
            "24\n"
          ]
        }
      ]
    },
    {
      "cell_type": "code",
      "source": [
        "# if, elif, else condition Examples\n",
        "weather : str = \"sunny\"\n",
        "\n",
        "if weather == \"snowfall\":\n",
        "    print(\"It's a beautiful day! Go for a walk.\")\n",
        "else:\n",
        "    print(\"Read the book\")\n",
        "    weather: str=\"Snowfall\"\n",
        "massege: str=\"Drink cold Coffee\" if weather==\"hot\" else \"drink Coffee\"\n",
        "print(massege)"
      ],
      "metadata": {
        "colab": {
          "base_uri": "https://localhost:8080/"
        },
        "id": "BQ-qzPkMpG9B",
        "outputId": "a6804c68-5bf7-4fe6-cb60-9af736ad1e70"
      },
      "execution_count": null,
      "outputs": [
        {
          "output_type": "stream",
          "name": "stdout",
          "text": [
            "Read the book\n",
            "drink Coffee\n"
          ]
        }
      ]
    },
    {
      "cell_type": "code",
      "source": [
        "# if else condition\n",
        "x = 10\n",
        "y = 20\n",
        "\n",
        "# Using a conditional operator\n",
        "max_value = x  if x > y else y\n",
        "\n",
        "print(max_value)  # Output will be 20\n"
      ],
      "metadata": {
        "id": "q8i3gwlwU5uD",
        "colab": {
          "base_uri": "https://localhost:8080/"
        },
        "outputId": "a8ed2885-6249-409f-fadb-f7e7fb3e3a5e"
      },
      "execution_count": null,
      "outputs": [
        {
          "output_type": "stream",
          "name": "stdout",
          "text": [
            "20\n"
          ]
        }
      ]
    },
    {
      "cell_type": "code",
      "source": [
        "#nested Condition Example\n",
        "is_member : bool = True\n",
        "purchase_amount : int = 250\n",
        "\n",
        "if is_member:\n",
        "    if purchase_amount >200:\n",
        "        print(\"You are eligible for a 10% discount!\")\n",
        "    else:\n",
        "        print(\"Spend more than $200 to get a discount.\")\n",
        "else:\n",
        "    print(\"Become a member to enjoy discounts.\")"
      ],
      "metadata": {
        "colab": {
          "base_uri": "https://localhost:8080/"
        },
        "id": "RLw3B_EAzEce",
        "outputId": "178ef374-db1d-4c6b-b3e8-f8b895ae441a"
      },
      "execution_count": null,
      "outputs": [
        {
          "output_type": "stream",
          "name": "stdout",
          "text": [
            "You are eligible for a 10% discount!\n"
          ]
        }
      ]
    },
    {
      "cell_type": "code",
      "source": [
        "# Function to grade a student based on marks\n",
        "def grade_student(marks):\n",
        "    return (\n",
        "        'A' if marks >= 90 else\n",
        "        'B' if marks >= 80 else\n",
        "        'C' if marks >= 70 else\n",
        "        'D' if marks >= 60 else\n",
        "        'F'\n",
        "    )\n",
        "\n",
        "# Example usage\n",
        "marks = 85\n",
        "grade = grade_student(marks)\n",
        "print(f\"Marks: {marks}, Grade: {grade}\")  # Output: Marks: 85, Grade: B\n"
      ],
      "metadata": {
        "colab": {
          "base_uri": "https://localhost:8080/"
        },
        "id": "nw1oRDpmXnyP",
        "outputId": "891231f0-9530-4bd0-b754-236a64411b6c"
      },
      "execution_count": null,
      "outputs": [
        {
          "output_type": "stream",
          "name": "stdout",
          "text": [
            "Marks: 85, Grade: B\n"
          ]
        }
      ]
    },
    {
      "cell_type": "code",
      "source": [
        "#example of Marks\n",
        "marks = 93\n",
        "grade =(\n",
        "        'A' if marks >= 90 else\n",
        "        'B' if marks >= 80 else\n",
        "        'C' if marks >= 70 else\n",
        "        'D' if marks >= 60 else\n",
        "        'F'\n",
        ")\n",
        "print(f\" Marks: {marks} Grade: {grade}\")"
      ],
      "metadata": {
        "colab": {
          "base_uri": "https://localhost:8080/"
        },
        "id": "6alUazxrt2VN",
        "outputId": "28ae3f03-deab-423f-df98-8d01f05fa748"
      },
      "execution_count": null,
      "outputs": [
        {
          "output_type": "stream",
          "name": "stdout",
          "text": [
            " Marks: 93 Grade: A\n"
          ]
        }
      ]
    },
    {
      "cell_type": "code",
      "source": [
        "# calculator Assignment-1\n",
        "a = int(input(\"Enter number1= \"))\n",
        "b = int(input (\"Enter number2= \"))\n",
        "print(f\"\\nAddition = {a+b}\\nSubtraction = {a - b} \\nMultiplication = {a*b} \\nDivision = {a/b} \\nModulus = {a%b} \\nRound-Val = {a // b} \\nPower of Value = {a ** b}\")"
      ],
      "metadata": {
        "colab": {
          "base_uri": "https://localhost:8080/"
        },
        "id": "dZAAWrjwA46W",
        "outputId": "b6b35eff-f3d1-476d-ba99-20f5fece2bbd"
      },
      "execution_count": null,
      "outputs": [
        {
          "output_type": "stream",
          "name": "stdout",
          "text": [
            "Enter number1= 8\n",
            "Enter number2= 2\n",
            "\n",
            "Addition = 10\n",
            "Subtraction = 6 \n",
            "Multiplication = 16 \n",
            "Division = 4.0 \n",
            "Modulus = 0 \n",
            "Round-Val = 4 \n",
            "Power of Value = 64\n"
          ]
        }
      ]
    },
    {
      "cell_type": "code",
      "source": [
        "#Asignment-2 Student result (Grading)\n",
        "school_name: str = \"        IMCB I-10/2, Islamabad        \"\n",
        "student_name: str = \"Imtiaz Alam\"\n",
        "student_rollno: int = \"Roll No:         12560\"\n",
        "class_name: str = \"Class :       9th\"\n",
        "English : float = 93\n",
        "Urdu : float = 91\n",
        "Physics : float = 94\n",
        "Chemistery : float =86.6\n",
        "Pakstudy : float = 92\n",
        "print(F\"School Name= {school_name} \\nStudent Name = {student_name}\\n{student_rollno}\\n{class_name}\\nEnglish =  {English}\\nUrdu =  {Urdu}\\nPhysics =  {Physics}\\nChemistery =  {Chemistery}\\nPakstudy =  {Pakstudy}\\n\")\n",
        "Total_Marks = 500\n",
        "Obtaine_Marks = English+Urdu+Physics+Chemistery+Pakstudy\n",
        "print(\"Total Marks = \",Total_Marks)\n",
        "print(f\"Obtaine_Marks = {Obtaine_Marks} \")\n",
        "average = float((Obtaine_Marks/Total_Marks)*100)\n",
        "print(\"Average =\" ,average)\n",
        "if average >=90:\n",
        "  print(\"Grade =\", 'A+')\n",
        "if average <90  >80 :\n",
        "  print(\"Grade =\", 'A')\n",
        "if average <80 :\n",
        "  print(\"Grade =\", 'B')\n"
      ],
      "metadata": {
        "colab": {
          "base_uri": "https://localhost:8080/"
        },
        "id": "l2hFxL_QD5Q2",
        "outputId": "44cf3382-ecf3-4b40-8bfb-0bc2b2c0b8bf"
      },
      "execution_count": null,
      "outputs": [
        {
          "output_type": "stream",
          "name": "stdout",
          "text": [
            "School Name=         IMCB I-10/2, Islamabad         \n",
            "Student Name = Imtiaz Alam\n",
            "Roll No:         12560\n",
            "Class :       9th\n",
            "English =  93\n",
            "Urdu =  91\n",
            "Physics =  94\n",
            "Chemistery =  86.6\n",
            "Pakstudy =  92\n",
            "\n",
            "Total Marks =  500\n",
            "Obtaine_Marks = 456.6 \n",
            "Average = 91.32000000000001\n",
            "Grade = A+\n"
          ]
        }
      ]
    },
    {
      "cell_type": "markdown",
      "source": [],
      "metadata": {
        "id": "mYFUlfdzuZHP"
      }
    },
    {
      "cell_type": "code",
      "source": [
        "# Integer\n",
        "integer_value: int=23\n",
        "print (integer_value)"
      ],
      "metadata": {
        "colab": {
          "base_uri": "https://localhost:8080/"
        },
        "id": "NHjr9q3e0N8e",
        "outputId": "78b800d1-672a-410e-a4f8-f2555b02f85f"
      },
      "execution_count": null,
      "outputs": [
        {
          "output_type": "stream",
          "name": "stdout",
          "text": [
            "23\n"
          ]
        }
      ]
    },
    {
      "cell_type": "code",
      "source": [
        "# string\n",
        "a_string = \"Hello, World!\"\n",
        "print(a_string)"
      ],
      "metadata": {
        "colab": {
          "base_uri": "https://localhost:8080/"
        },
        "id": "X9bTaNNn2EhK",
        "outputId": "24ee921f-3f91-4d85-c529-f1651f43803d"
      },
      "execution_count": null,
      "outputs": [
        {
          "output_type": "stream",
          "name": "stdout",
          "text": [
            "Hello, World!\n"
          ]
        }
      ]
    },
    {
      "cell_type": "code",
      "source": [
        "# Float\n",
        "float_value: float=12.6\n",
        "print (float_value)"
      ],
      "metadata": {
        "colab": {
          "base_uri": "https://localhost:8080/"
        },
        "id": "N1SMOSSh2Yjf",
        "outputId": "fd8026fc-d352-4bb3-adcd-354a8867ff64"
      },
      "execution_count": null,
      "outputs": [
        {
          "output_type": "stream",
          "name": "stdout",
          "text": [
            "12.6\n"
          ]
        }
      ]
    },
    {
      "cell_type": "code",
      "source": [
        "# Complex\n",
        "complex_value = 1 + 2j\n",
        "print(\"Complex:\", complex_value)\n",
        "complex_value = 1 + 2*8/2\n",
        "print(\"Complex:\", complex_value)"
      ],
      "metadata": {
        "colab": {
          "base_uri": "https://localhost:8080/"
        },
        "id": "uRFigPWj3Hx6",
        "outputId": "9cfa37d6-2bb2-4577-da6a-30b4acd802a0"
      },
      "execution_count": null,
      "outputs": [
        {
          "output_type": "stream",
          "name": "stdout",
          "text": [
            "Complex: (1+2j)\n",
            "Complex: 9.0\n"
          ]
        }
      ]
    },
    {
      "cell_type": "code",
      "source": [
        "from re import X\n",
        "# None\n",
        "value = None\n",
        "print(\"NoneType:\", value)\n",
        "none_value = \"this is none Value\"\n",
        "print(\"NoneType:\", none_value)\n",
        "\n"
      ],
      "metadata": {
        "colab": {
          "base_uri": "https://localhost:8080/"
        },
        "id": "Uf6cTPD738zN",
        "outputId": "e98c9896-bbd9-4e5d-80af-aa929ba68019"
      },
      "execution_count": null,
      "outputs": [
        {
          "output_type": "stream",
          "name": "stdout",
          "text": [
            "NoneType: None\n",
            "NoneType: this is none Value\n"
          ]
        }
      ]
    },
    {
      "cell_type": "code",
      "source": [
        "x = None\n",
        "Y = 5\n",
        "print (\"X is equal:\", x)\n",
        "name= \"23\"\n",
        "if name is name:\n",
        "  print(\"Value is String\")\n",
        "  print(\"Value is Integer\")\n",
        "\n"
      ],
      "metadata": {
        "colab": {
          "base_uri": "https://localhost:8080/"
        },
        "id": "M9sf421l81uA",
        "outputId": "ec764b03-4a02-4d66-aaf3-f0fff29e7e12"
      },
      "execution_count": null,
      "outputs": [
        {
          "output_type": "stream",
          "name": "stdout",
          "text": [
            "X is equal: None\n",
            "Value is String\n",
            "Value is Integer\n"
          ]
        }
      ]
    },
    {
      "cell_type": "code",
      "source": [],
      "metadata": {
        "id": "Gyly1J7_3BzK"
      },
      "execution_count": null,
      "outputs": []
    },
    {
      "cell_type": "code",
      "source": [
        "name= \"M.ALI\"\n",
        "print (name)\n",
        "number= \"100\"\n",
        "print (number)\n",
        "name: str= \"Pakistan\"\n",
        "first_num: int= 5\n",
        "first_float: float =5.0\n",
        "str1 = \"Hello World\"\n",
        "print(len(str1))  # Output: 11\n",
        "print(str1)\n",
        "result_equal: bool = 5 == 5\n",
        "print(result_equal)\n",
        "result_not_equal: bool = 10 !=11\n",
        "result_greater_than: bool = 8 > 3\n",
        "result_less_than: bool = 6 < 9\n",
        "result_greater_equal: bool = 5 >= 5\n",
        "result_less_equal: bool = 3 <= 4\n",
        "print(result_not_equal)\n",
        "print(result_greater_than)\n"
      ],
      "metadata": {
        "colab": {
          "base_uri": "https://localhost:8080/"
        },
        "id": "z_njM7BauazH",
        "outputId": "12137a55-7fba-401d-878f-942bbc49b1eb"
      },
      "execution_count": null,
      "outputs": [
        {
          "output_type": "stream",
          "name": "stdout",
          "text": [
            "M.ALI\n",
            "100\n",
            "11\n",
            "Hello World\n",
            "True\n",
            "True\n",
            "True\n"
          ]
        }
      ]
    },
    {
      "cell_type": "markdown",
      "source": [
        "# Python Collections (Arrays)\n",
        "There are four collection data types in the Python programming language:\n",
        "\n",
        "**List** is a collection which is ordered and changeable. Allows duplicate members.<br/>\n",
        "**Tuple** is a collection which is ordered and unchangeable. Allows duplicate members.<br/>\n",
        "**Set** is a collection which is unordered, unchangeable, and unindexed. No duplicate members.<br/>\n",
        "**Dictionary** is a collection which is ordered and changeable. No duplicate members."
      ],
      "metadata": {
        "id": "iOGcwZawzBjt"
      }
    },
    {
      "cell_type": "code",
      "source": [
        "# new list\n",
        "student=[\"ALi\",\"Zubair\",\"Ahemd\",\"Muneer\",\"Hashim\"]\n",
        "print(student)\n"
      ],
      "metadata": {
        "colab": {
          "base_uri": "https://localhost:8080/"
        },
        "id": "USFV2HYzH1Ke",
        "outputId": "6ef0cea8-e378-42f4-d048-5d4f831422bc"
      },
      "execution_count": null,
      "outputs": [
        {
          "output_type": "stream",
          "name": "stdout",
          "text": [
            "['ALi', 'Zubair', 'Ahemd', 'Muneer', 'Hashim']\n"
          ]
        }
      ]
    },
    {
      "cell_type": "code",
      "source": [
        "#print length of list\n",
        "print(len(student))"
      ],
      "metadata": {
        "colab": {
          "base_uri": "https://localhost:8080/"
        },
        "id": "-TQXTKhmKffB",
        "outputId": "3f84f54c-1781-464c-95bf-0eab8e24d9c6"
      },
      "execution_count": null,
      "outputs": [
        {
          "output_type": "stream",
          "name": "stdout",
          "text": [
            "5\n"
          ]
        }
      ]
    },
    {
      "cell_type": "code",
      "source": [
        "#list items data types\n",
        "# lists items can be different data types like.....\n",
        "fruits = [\"apple\", \"banana\", \"cherry\"]\n",
        "integer = [1, 5, 7, 9, 3]\n",
        "bool = [True, False, False]\n",
        "print(f\"Fruits ={fruits}\\nNumbers= {integer}\\nbool_values={bool}\")\n",
        "print(fruits[1],integer[3])"
      ],
      "metadata": {
        "colab": {
          "base_uri": "https://localhost:8080/"
        },
        "id": "38HJb1gkLACN",
        "outputId": "96fa85bc-d52e-4b3a-ed2a-99519cae3362"
      },
      "execution_count": null,
      "outputs": [
        {
          "output_type": "stream",
          "name": "stdout",
          "text": [
            "Fruits =['apple', 'banana', 'cherry']\n",
            "Numbers= [1, 5, 7, 9, 3]\n",
            "bool_values=[True, False, False]\n",
            "banana 9\n"
          ]
        }
      ]
    },
    {
      "cell_type": "code",
      "source": [
        "#A list can contain different data types:\n",
        "list =[\"English\",67,\"Urdu\",87, \"Math\",78]\n",
        "print(list)"
      ],
      "metadata": {
        "colab": {
          "base_uri": "https://localhost:8080/"
        },
        "id": "hDFtvHJdNE0i",
        "outputId": "c6cbfcb6-5540-47c7-8816-59e5f02b5548"
      },
      "execution_count": null,
      "outputs": [
        {
          "output_type": "stream",
          "name": "stdout",
          "text": [
            "['English', 67, 'Urdu', 87, 'Math', 78]\n"
          ]
        }
      ]
    },
    {
      "cell_type": "code",
      "source": [
        "# Access List items by reffering through index number\n",
        "print(list[3])\n",
        "print(fruits[2])\n",
        "print(student[1])"
      ],
      "metadata": {
        "colab": {
          "base_uri": "https://localhost:8080/"
        },
        "id": "xz4W3tRrTqae",
        "outputId": "f6481e61-d46b-4988-e84c-784153d74340"
      },
      "execution_count": null,
      "outputs": [
        {
          "output_type": "stream",
          "name": "stdout",
          "text": [
            "87\n",
            "cherry\n",
            "Zubair\n"
          ]
        }
      ]
    },
    {
      "cell_type": "code",
      "source": [
        "# Negative Indexing\n",
        "# Negative indexing means start from the end\n",
        "books=[\"Arabic\",\"Urdu\",\"PakStudy\",\"English\",\"Physics\",\"Chemistery\",\"Computer\",\"Histry\"]\n",
        "print(books[-1])"
      ],
      "metadata": {
        "colab": {
          "base_uri": "https://localhost:8080/"
        },
        "id": "6R05uKmBUvW3",
        "outputId": "88551bad-9523-4a2a-e564-4cd6da565f07"
      },
      "execution_count": null,
      "outputs": [
        {
          "output_type": "stream",
          "name": "stdout",
          "text": [
            "Histry\n"
          ]
        }
      ]
    },
    {
      "cell_type": "code",
      "source": [
        "# Range of List\n",
        "print(books[1:6]) #print list from index 1 to 5\n",
        "print(books[:6]) #print list from index 0 to 5\n",
        "print(books[6:]) #print remaining list index 6 to onword\n",
        "print(books[2:-1:])  #print list from index 2 to 6\n",
        "# out put   ['Urdu', 'PakStudy', 'English', 'Physics', 'Chemistery']\n",
        "#           ['Arabic', 'Urdu', 'PakStudy', 'English', 'Physics', 'Chemistery']"
      ],
      "metadata": {
        "colab": {
          "base_uri": "https://localhost:8080/"
        },
        "id": "b8J-3wnyWWqT",
        "outputId": "74ef283f-0d99-4391-a247-0019c5169d8c"
      },
      "execution_count": null,
      "outputs": [
        {
          "output_type": "stream",
          "name": "stdout",
          "text": [
            "['Urdu', 'PakStudy', 'English', 'Physics', 'Chemistery']\n",
            "['Arabic', 'Urdu', 'PakStudy', 'English', 'Physics', 'Chemistery']\n",
            "['Computer', 'Histry']\n",
            "['PakStudy', 'English', 'Physics', 'Chemistery', 'Computer']\n"
          ]
        }
      ]
    },
    {
      "cell_type": "code",
      "source": [
        "print(books[1:-4])\n"
      ],
      "metadata": {
        "colab": {
          "base_uri": "https://localhost:8080/"
        },
        "id": "GIx1eYtqcwR-",
        "outputId": "6e254c6b-be3c-4e4f-ae0b-83ad8c7bb151"
      },
      "execution_count": null,
      "outputs": [
        {
          "output_type": "stream",
          "name": "stdout",
          "text": [
            "['Urdu', 'PakStudy', 'English']\n"
          ]
        }
      ]
    },
    {
      "cell_type": "code",
      "source": [
        "# Check if Item Exists\n",
        "# To determine if a specified item is present in a list use the in keyword:\n",
        "books=[\"Arabic\",\"Urdu\",\"PakStudy\",\"English\",\"Physics\",\"Chemistery\",\"Computer\",\"Histry\"]\n",
        "if \"Urdu\" in books:\n",
        "  print(\"Yes Urdu is included in books List\")"
      ],
      "metadata": {
        "colab": {
          "base_uri": "https://localhost:8080/"
        },
        "id": "epeX-99-d3SV",
        "outputId": "c4d95feb-5db4-4b1a-916b-46f7a695b7fd"
      },
      "execution_count": null,
      "outputs": [
        {
          "output_type": "stream",
          "name": "stdout",
          "text": [
            "Yes Urdu is included in books List\n"
          ]
        }
      ]
    },
    {
      "cell_type": "markdown",
      "source": [
        "# New Section"
      ],
      "metadata": {
        "id": "yfOLU0kOHf87"
      }
    },
    {
      "cell_type": "code",
      "source": [
        "#string comparison\n",
        "str1 = \"Hello\"\n",
        "str2 = \"World\"\n",
        "print(str1 == str2)  # Output: False\n",
        "print(str1 != str2)  # Output: True\n",
        "print(str1 < str2)   # Output: True (since \"H\" comes before \"W\" lexicographically)"
      ],
      "metadata": {
        "colab": {
          "base_uri": "https://localhost:8080/"
        },
        "collapsed": true,
        "id": "CPGpB6_UzCa3",
        "outputId": "dc54cbc4-5e3e-434d-cf1d-be25e65a1e6b"
      },
      "execution_count": null,
      "outputs": [
        {
          "output_type": "stream",
          "name": "stdout",
          "text": [
            "False\n",
            "True\n",
            "True\n"
          ]
        }
      ]
    },
    {
      "cell_type": "markdown",
      "source": [
        "#escap Sequence\n",
        "print(\"Python Programming in \\\"PIAIC\\\"\")\n",
        "print(\"Python Programming in \\\\PIAIC\")\n",
        "print(\"Python Programming in \\nPIAIC\")\n",
        "print(\"Python Programming in \\tPIAIC\")\n",
        "print(\"Python Programming in PIAIC\\rpiaic\")\n",
        "print(\"Python Programming in a\\bPIAIC\")\n",
        "print(\"Python Programming in \\aPIAIC\")"
      ],
      "metadata": {
        "id": "Gl5Jh1WLu7gn"
      }
    },
    {
      "cell_type": "code",
      "source": [
        "# @title Default title text\n",
        "#String Formatting (%, .format(), f-strings)\n",
        "name = \"Alice\"\n",
        "age = 30\n",
        "\n",
        "# Using % operator\n",
        "print(\"My name is %s and I am %d years old.\" % (name, age))  # Output: \"My name is Alice and I am 30 years old.\"\n",
        "name = \"Samina\"\n",
        "age = 35\n",
        "# Using .format()\n",
        "print(\"My name is {} and I am {} years old.\".format(name, age))  # Output: \"My name is Alice and I am 30 years old.\"\n",
        "name = \"Zafar\"\n",
        "age = 25\n",
        "# Using f-strings (Python 3.6+)\n",
        "print(f\"My name is {name} and I am {age} years old.\")  # Output: \"My name is Alice and I am 30 years old.\"\n",
        "\n",
        "\n",
        "#Assigment Operator\n"
      ],
      "metadata": {
        "colab": {
          "base_uri": "https://localhost:8080/"
        },
        "id": "QV0BCU7du-Ff",
        "outputId": "0a1ff734-d5f7-458b-ffc7-45b52769c20a"
      },
      "execution_count": null,
      "outputs": [
        {
          "output_type": "stream",
          "name": "stdout",
          "text": [
            "My name is Alice and I am 30 years old.\n",
            "My name is Samina and I am 35 years old.\n",
            "My name is Zafar and I am 25 years old.\n"
          ]
        }
      ]
    },
    {
      "cell_type": "code",
      "source": [],
      "metadata": {
        "id": "1vcnAPvAwwd3"
      },
      "execution_count": null,
      "outputs": []
    },
    {
      "cell_type": "code",
      "source": [
        "#escape sequences\n",
        "print(\"Python Programming in \\\"PIAIC\\\"\")\n",
        "print(\"Python Programming in \\\\PIAIC\")\n",
        "print(\"Python Programming in \\nPIAIC\")\n",
        "print(\"Python Programming in \\tPIAIC\")\n",
        "print(\"Python Programming in PIAIC\\rpiaic\")\n",
        "print(\"Python Programming in a\\bPIAIC\")\n",
        "print(\"Python Programming in \\aPIAIC\")\n",
        "print(\"Python Programming in \\bPIAIC\")"
      ],
      "metadata": {
        "colab": {
          "base_uri": "https://localhost:8080/"
        },
        "id": "Hb7jXogbFMw0",
        "outputId": "acd5efdb-b042-4395-f100-a101e92c816d"
      },
      "execution_count": null,
      "outputs": [
        {
          "output_type": "stream",
          "name": "stdout",
          "text": [
            "Python Programming in \"PIAIC\"\n",
            "Python Programming in \\PIAIC\n",
            "Python Programming in \n",
            "PIAIC\n",
            "Python Programming in \tPIAIC\n",
            "Python Programming in PIAIC\rpiaic\n",
            "Python Programming in a\bPIAIC\n",
            "Python Programming in \u0007PIAIC\n",
            "Python Programming in \bPIAIC\n"
          ]
        }
      ]
    },
    {
      "cell_type": "code",
      "source": [
        "# list and index\n",
        "\n",
        "Student_name =[\"ALI\", \"Munir\", \"Eshrat\"]\n",
        "print (Student_name [2])\n",
        "\n",
        "#remove the value from llist\n",
        "colours = [\"Black\",\"Green\",\"White\"]\n",
        "popped_value = colours.pop()\n",
        "print(popped_value)"
      ],
      "metadata": {
        "colab": {
          "base_uri": "https://localhost:8080/"
        },
        "id": "WVFpMH7MVLE2",
        "outputId": "85aca22d-c8fe-40e2-e5ba-b1573983dc3a"
      },
      "execution_count": null,
      "outputs": [
        {
          "output_type": "stream",
          "name": "stdout",
          "text": [
            "Eshrat\n",
            "White\n"
          ]
        }
      ]
    },
    {
      "cell_type": "code",
      "source": [
        "#Reverse a list in Python\n",
        "list_num =[100, 200,300,400,500,600]\n",
        "print(list_num[4::-1])\n",
        "list_num.reverse()\n",
        "print(list_num)\n",
        "list1 = [\"F\",\"E\",\"D\",\"C\",\"B\",\"A\"]\n",
        "list1 = list1[5::-1]\n",
        "print(list1)\n"
      ],
      "metadata": {
        "id": "NSmqQPFzZDtC",
        "colab": {
          "base_uri": "https://localhost:8080/"
        },
        "outputId": "81acf129-6f03-4c7b-f809-b55cfd74165a"
      },
      "execution_count": 57,
      "outputs": [
        {
          "output_type": "stream",
          "name": "stdout",
          "text": [
            "[500, 400, 300, 200, 100]\n",
            "[600, 500, 400, 300, 200, 100]\n",
            "['A', 'B', 'C', 'D', 'E', 'F']\n"
          ]
        }
      ]
    },
    {
      "cell_type": "code",
      "source": [
        "from typing import Concatenate\n",
        "list1 = [\"M\", \"na\", \"i\", \"Ke\"]\n",
        "list2 = [\"y\", \"me\", \"s\", \"lly\"]\n",
        "list3 = list1[3]+list2[0]\n",
        "print(list3)\n",
        "list3 = [i + j for i, j in zip(list1, list2)]\n",
        "print(list3)\n"
      ],
      "metadata": {
        "colab": {
          "base_uri": "https://localhost:8080/"
        },
        "id": "GNpMSUsI2vDi",
        "outputId": "683c1ee5-bbd3-4f19-efa2-d7669635e885"
      },
      "execution_count": 71,
      "outputs": [
        {
          "output_type": "stream",
          "name": "stdout",
          "text": [
            "Key\n",
            "['My', 'name', 'is', 'Kelly']\n"
          ]
        }
      ]
    },
    {
      "cell_type": "code",
      "source": [
        "#apend function in list\n",
        "list1 = ['a', 'b' , 'c']\n",
        "list2 = [1, 2, 3]\n",
        "for x in list2:\n",
        "  list3 =list1.append(x)\n",
        "  print(list1)"
      ],
      "metadata": {
        "colab": {
          "base_uri": "https://localhost:8080/"
        },
        "id": "T7pCawxx_ifw",
        "outputId": "eaa6d4dc-2b95-4f78-ec67-446479354613"
      },
      "execution_count": 75,
      "outputs": [
        {
          "output_type": "stream",
          "name": "stdout",
          "text": [
            "['a', 'b', 'c', 1]\n",
            "['a', 'b', 'c', 1, 2]\n",
            "['a', 'b', 'c', 1, 2, 3]\n"
          ]
        }
      ]
    },
    {
      "cell_type": "code",
      "source": [
        "# turn every no of list in to squire\n",
        "number_list = [1,2,3,4,5,6]\n",
        "number_list2= []\n",
        "for i in number_list:\n",
        "  number_list2 = i * i\n",
        "  print(number_list2)\n",
        "  # useing append function\n",
        "  numbers = [1, 2, 3, 4, 5, 6, 7]\n",
        "# result list\n",
        "res = []\n",
        "for i in numbers:\n",
        "    # calculate square and add to the result list\n",
        "    res.append(i * i)\n",
        "print(res)\n",
        "\n"
      ],
      "metadata": {
        "colab": {
          "base_uri": "https://localhost:8080/"
        },
        "id": "v9bVNFU8BVF5",
        "outputId": "7c63632f-7b2d-4f10-c96c-76efb85aadda"
      },
      "execution_count": 82,
      "outputs": [
        {
          "output_type": "stream",
          "name": "stdout",
          "text": [
            "1\n",
            "4\n",
            "9\n",
            "16\n",
            "25\n",
            "36\n",
            "[1, 4, 9, 16, 25, 36, 49]\n"
          ]
        }
      ]
    },
    {
      "cell_type": "code",
      "source": [
        "#useing comprehension in list\n",
        "numbers = [1, 2, 3, 4, 5, 6, 7]\n",
        "res = [x * x for x in numbers]\n",
        "print(res)"
      ],
      "metadata": {
        "colab": {
          "base_uri": "https://localhost:8080/"
        },
        "id": "_LIR7SutFvWS",
        "outputId": "1423b253-f827-41b1-854f-ae2d8eafc6fc"
      },
      "execution_count": 83,
      "outputs": [
        {
          "output_type": "stream",
          "name": "stdout",
          "text": [
            "[1, 4, 9, 16, 25, 36, 49]\n"
          ]
        }
      ]
    },
    {
      "cell_type": "code",
      "source": [
        "#Concatenate two lists in the following order\n",
        "# ['Hello Dear', 'Hello Sir', 'take Dear', 'take Sir']\n",
        "str1 = [\"Hello \", \"take \"]\n",
        "str2 = [\"Dear\", \"Sir\"]\n",
        "str3 = [i + j for i in str1 for j in str2]\n",
        "print(str3)\n",
        "\n"
      ],
      "metadata": {
        "colab": {
          "base_uri": "https://localhost:8080/"
        },
        "id": "2_yGiEEMGhGM",
        "outputId": "a4679a79-78c5-43b7-a46a-d28fc9819e50"
      },
      "execution_count": 88,
      "outputs": [
        {
          "output_type": "stream",
          "name": "stdout",
          "text": [
            "['Hello Dear', 'Hello Sir', 'take Dear', 'take Sir']\n"
          ]
        }
      ]
    },
    {
      "cell_type": "code",
      "source": [
        "list1 = [10, 20, 30, 40]\n",
        "list2 = [100, 200, 300, 400]\n",
        "for i,j in zip(list1 , list2[::-1]):\n",
        "  print(i,j)"
      ],
      "metadata": {
        "colab": {
          "base_uri": "https://localhost:8080/"
        },
        "id": "W3PAvvOXJ4Wi",
        "outputId": "98c16a6e-773d-4ff1-81ca-e64800a6ed5d"
      },
      "execution_count": 96,
      "outputs": [
        {
          "output_type": "stream",
          "name": "stdout",
          "text": [
            "10 400\n",
            "20 300\n",
            "30 200\n",
            "40 100\n"
          ]
        }
      ]
    }
  ]
}