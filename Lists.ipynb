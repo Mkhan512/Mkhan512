{
  "nbformat": 4,
  "nbformat_minor": 0,
  "metadata": {
    "colab": {
      "provenance": [],
      "authorship_tag": "ABX9TyOMW8BZABsw48B5bFnX5+vi",
      "include_colab_link": true
    },
    "kernelspec": {
      "name": "python3",
      "display_name": "Python 3"
    },
    "language_info": {
      "name": "python"
    }
  },
  "cells": [
    {
      "cell_type": "markdown",
      "metadata": {
        "id": "view-in-github",
        "colab_type": "text"
      },
      "source": [
        "<a href=\"https://colab.research.google.com/github/Mkhan512/Mkhan512/blob/main/Lists.ipynb\" target=\"_parent\"><img src=\"https://colab.research.google.com/assets/colab-badge.svg\" alt=\"Open In Colab\"/></a>"
      ]
    },
    {
      "cell_type": "code",
      "execution_count": 1,
      "metadata": {
        "colab": {
          "base_uri": "https://localhost:8080/"
        },
        "id": "l5yRe3lwNl9g",
        "outputId": "865a674f-ebe8-4e75-cd74-d560e12c7083"
      },
      "outputs": [
        {
          "output_type": "stream",
          "name": "stdout",
          "text": [
            "Eshrat\n",
            "White\n"
          ]
        }
      ],
      "source": [
        "# list and index\n",
        "\n",
        "Student_name =[\"ALI\", \"Munir\", \"Eshrat\"]\n",
        "print (Student_name [2])\n",
        "\n",
        "#remove the value from llist\n",
        "colours = [\"Black\",\"Green\",\"White\"]\n",
        "popped_value = colours.pop()\n",
        "print(popped_value)"
      ]
    },
    {
      "cell_type": "code",
      "source": [
        "#Reverse a list in Python\n",
        "list_num =[100, 200,300,400,500,600]\n",
        "print(list_num[4::-1])\n",
        "list_num.reverse()\n",
        "print(list_num)\n",
        "list1 = [\"F\",\"E\",\"D\",\"C\",\"B\",\"A\"]\n",
        "list1 = list1[5::-1]\n",
        "print(list1)"
      ],
      "metadata": {
        "colab": {
          "base_uri": "https://localhost:8080/"
        },
        "id": "_U1vHXWKOhuv",
        "outputId": "983fcd9e-5728-4080-fbca-c927bae92870"
      },
      "execution_count": 2,
      "outputs": [
        {
          "output_type": "stream",
          "name": "stdout",
          "text": [
            "[500, 400, 300, 200, 100]\n",
            "[600, 500, 400, 300, 200, 100]\n",
            "['A', 'B', 'C', 'D', 'E', 'F']\n"
          ]
        }
      ]
    },
    {
      "cell_type": "code",
      "source": [
        "#from typing import Concatenate\n",
        "list1 = [\"M\", \"na\", \"i\", \"Ke\"]\n",
        "list2 = [\"y\", \"me\", \"s\", \"lly\"]\n",
        "list3 = list1[3]+list2[0]\n",
        "print(list3)\n",
        "list3 = [i + j for i, j in zip(list1, list2)]\n",
        "print(list3)"
      ],
      "metadata": {
        "colab": {
          "base_uri": "https://localhost:8080/"
        },
        "id": "AfPdejGcOnzK",
        "outputId": "30b5ac5a-873b-42b6-dac9-536c12c97a3a"
      },
      "execution_count": 3,
      "outputs": [
        {
          "output_type": "stream",
          "name": "stdout",
          "text": [
            "Key\n",
            "['My', 'name', 'is', 'Kelly']\n"
          ]
        }
      ]
    },
    {
      "cell_type": "code",
      "source": [
        "#apend function in list\n",
        "list1 = ['a', 'b' , 'c']\n",
        "list2 = [1, 2, 3]\n",
        "for x in list2:\n",
        "  list3 =list1.append(x)\n",
        "  print(list1)"
      ],
      "metadata": {
        "colab": {
          "base_uri": "https://localhost:8080/"
        },
        "id": "QyIyt-lOO66M",
        "outputId": "10e4b4b6-bb62-4179-c997-de3952b1f44a"
      },
      "execution_count": 4,
      "outputs": [
        {
          "output_type": "stream",
          "name": "stdout",
          "text": [
            "['a', 'b', 'c', 1]\n",
            "['a', 'b', 'c', 1, 2]\n",
            "['a', 'b', 'c', 1, 2, 3]\n"
          ]
        }
      ]
    },
    {
      "cell_type": "code",
      "source": [
        "# turn every no of list in to squire\n",
        "number_list = [1,2,3,4,5,6]\n",
        "number_list2= []\n",
        "for i in number_list:\n",
        "  number_list2 = i * i\n",
        "  print(number_list2)\n",
        "  # useing append function\n",
        "  numbers = [1, 2, 3, 4, 5, 6, 7]\n",
        "# result list\n",
        "res = []\n",
        "for i in numbers:\n",
        "    # calculate square and add to the result list\n",
        "    res.append(i * i)\n",
        "print(res)\n"
      ],
      "metadata": {
        "colab": {
          "base_uri": "https://localhost:8080/"
        },
        "id": "N24JDKdcO-oO",
        "outputId": "a0b77efc-d933-4fba-ebae-a408306cf1a5"
      },
      "execution_count": 5,
      "outputs": [
        {
          "output_type": "stream",
          "name": "stdout",
          "text": [
            "1\n",
            "4\n",
            "9\n",
            "16\n",
            "25\n",
            "36\n",
            "[1, 4, 9, 16, 25, 36, 49]\n"
          ]
        }
      ]
    },
    {
      "cell_type": "code",
      "source": [
        "#useing comprehension in list\n",
        "numbers = [1, 2, 3, 4, 5, 6, 7]\n",
        "res = [x * x for x in numbers]\n",
        "print(res)"
      ],
      "metadata": {
        "colab": {
          "base_uri": "https://localhost:8080/"
        },
        "id": "lnk7D2n0PN6h",
        "outputId": "25923394-4969-471c-abd8-e616ed759b33"
      },
      "execution_count": 6,
      "outputs": [
        {
          "output_type": "stream",
          "name": "stdout",
          "text": [
            "[1, 4, 9, 16, 25, 36, 49]\n"
          ]
        }
      ]
    },
    {
      "cell_type": "code",
      "source": [],
      "metadata": {
        "id": "SFdgT_IMPabD"
      },
      "execution_count": null,
      "outputs": []
    },
    {
      "cell_type": "code",
      "source": [
        "#Concatenate two lists in the following order\n",
        "# ['Hello Dear', 'Hello Sir', 'take Dear', 'take Sir']\n",
        "str1 = [\"Hello \", \"take \"]\n",
        "str2 = [\"Dear\", \"Sir\"]\n",
        "str3 = [i + j for i in str1 for j in str2]\n",
        "print(str3)\n",
        "\n"
      ],
      "metadata": {
        "colab": {
          "base_uri": "https://localhost:8080/"
        },
        "id": "2_yGiEEMGhGM",
        "outputId": "0db8c057-4e43-48c7-91ef-92f9f854aa9c"
      },
      "execution_count": 7,
      "outputs": [
        {
          "output_type": "stream",
          "name": "stdout",
          "text": [
            "['Hello Dear', 'Hello Sir', 'take Dear', 'take Sir']\n"
          ]
        }
      ]
    },
    {
      "cell_type": "code",
      "source": [],
      "metadata": {
        "id": "34w-VRfkPief"
      },
      "execution_count": null,
      "outputs": []
    },
    {
      "cell_type": "code",
      "source": [
        "list1 = [10, 20, 30, 40]\n",
        "list2 = [100, 200, 300, 400]\n",
        "for i,j in zip(list1 , list2[::-1]):\n",
        "  print(i,j)"
      ],
      "metadata": {
        "colab": {
          "base_uri": "https://localhost:8080/"
        },
        "id": "W3PAvvOXJ4Wi",
        "outputId": "98c16a6e-773d-4ff1-81ca-e64800a6ed5d"
      },
      "execution_count": null,
      "outputs": [
        {
          "output_type": "stream",
          "name": "stdout",
          "text": [
            "10 400\n",
            "20 300\n",
            "30 200\n",
            "40 100\n"
          ]
        }
      ]
    }
  ]
}