{
  "nbformat": 4,
  "nbformat_minor": 0,
  "metadata": {
    "colab": {
      "provenance": [],
      "authorship_tag": "ABX9TyN63AWEr6DxwRxEDbHMdh44",
      "include_colab_link": true
    },
    "kernelspec": {
      "name": "python3",
      "display_name": "Python 3"
    },
    "language_info": {
      "name": "python"
    }
  },
  "cells": [
    {
      "cell_type": "markdown",
      "metadata": {
        "id": "view-in-github",
        "colab_type": "text"
      },
      "source": [
        "<a href=\"https://colab.research.google.com/github/Mkhan512/Mkhan512/blob/main/53_self_coding_challenges.ipynb\" target=\"_parent\"><img src=\"https://colab.research.google.com/assets/colab-badge.svg\" alt=\"Open In Colab\"/></a>"
      ]
    },
    {
      "cell_type": "code",
      "source": [
        "def main():\n",
        "    print(\"This program adds two numbers.\")\n",
        "    num1 : str = input(\"Enter first number: \")\n",
        "    num1 : int = int(num1)\n",
        "    num2  : str = input(\"Enter second number: \")\n",
        "    num2 : int = int(num2)\n",
        "    total : int = num1 + num2\n",
        "    print(\"The total is \" + str(total) + \".\")\n",
        "\n",
        "\n",
        "# This provided line is required at the end of\n",
        "# Python file to call the main() function.\n",
        "if __name__ == '__main__':\n",
        "    main()"
      ],
      "metadata": {
        "colab": {
          "base_uri": "https://localhost:8080/"
        },
        "collapsed": true,
        "id": "w548laZ9Oy6T",
        "outputId": "a8e1a296-d650-42b1-c3fb-575395476221"
      },
      "execution_count": 10,
      "outputs": [
        {
          "output_type": "stream",
          "name": "stdout",
          "text": [
            "This program adds two numbers.\n",
            "Enter first number: 12\n",
            "Enter second number: 4\n",
            "The total is 16.\n"
          ]
        }
      ]
    },
    {
      "cell_type": "code",
      "execution_count": 15,
      "metadata": {
        "colab": {
          "base_uri": "https://localhost:8080/"
        },
        "id": "wSehr3aCIjBn",
        "outputId": "fe9216e2-2ab5-4b2e-d4e0-57b2135da041"
      },
      "outputs": [
        {
          "output_type": "stream",
          "name": "stdout",
          "text": [
            "In this Program Addition of two numbers\n",
            "Enter 1st number: 24\n",
            "Enter 2nd number: 28\n",
            "The total is 52.\n"
          ]
        }
      ],
      "source": [
        "#add two numbers\n",
        "def main():\n",
        "    print(\"In this Program Addition of two numbers\")\n",
        "    num1: str= input(\"Enter 1st number: \")\n",
        "    num1: int= int(num1)\n",
        "    num2: str=input(\"Enter 2nd number: \")\n",
        "    num2: int= int(num2)\n",
        "    Total : int= num1 + num2\n",
        "    print(\"The total is \" + str(Total) + \".\")\n",
        "\n",
        "# This provided line is required at the end of\n",
        "# Python file to call the main() function.\n",
        "if __name__ == '__main__':\n",
        "    main()"
      ]
    },
    {
      "cell_type": "code",
      "source": [
        "# 2nd Program print My Favourit animal is:_____\n",
        "def main():\n",
        "\n",
        "   animal: str= input(\"What is Your Favourit Animal:?\")\n",
        "   print(\"My Favourit Animal is: \" + animal + \".\")\n",
        "\n",
        "# This provided line is required at the end of\n",
        "# Python file to call the main() function.\n",
        "if __name__ == '__main__':\n",
        "    main()"
      ],
      "metadata": {
        "colab": {
          "base_uri": "https://localhost:8080/"
        },
        "id": "EBx7KUkgSnsJ",
        "outputId": "9e00267b-d5bd-437a-9c6a-836bc229c537"
      },
      "execution_count": 17,
      "outputs": [
        {
          "output_type": "stream",
          "name": "stdout",
          "text": [
            "What is Your Favourit Animal:?Bull\n",
            "My Favourit Animal is: Bull.\n"
          ]
        }
      ]
    },
    {
      "cell_type": "code",
      "source": [
        "# Prompt the user for a temperature in Fahrenheit\n",
        "degrees_fahrenheit = float(input(\"Enter temperature in Fahrenheit: \"))\n",
        "\n",
        "# Convert Fahrenheit to Celsius\n",
        "degrees_celsius = (degrees_fahrenheit - 32) * 5.0 / 9.0\n",
        "\n",
        "# Display the result\n",
        "print(f\"Temperature: {degrees_fahrenheit}F = {degrees_celsius:.2f}C\") # print celsius in round(2)\n"
      ],
      "metadata": {
        "colab": {
          "base_uri": "https://localhost:8080/"
        },
        "id": "L3K-wwjeT2QV",
        "outputId": "49eda584-df2d-4c6e-f366-6a3a2c8f109e"
      },
      "execution_count": 22,
      "outputs": [
        {
          "output_type": "stream",
          "name": "stdout",
          "text": [
            "Enter temperature in Fahrenheit: 99\n",
            "Temperature: 99.0F = 37.22C\n"
          ]
        }
      ]
    },
    {
      "cell_type": "code",
      "source": [],
      "metadata": {
        "id": "KmBVEoiqXwkS"
      },
      "execution_count": null,
      "outputs": []
    }
  ]
}