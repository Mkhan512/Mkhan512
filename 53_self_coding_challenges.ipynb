{
  "nbformat": 4,
  "nbformat_minor": 0,
  "metadata": {
    "colab": {
      "provenance": [],
      "authorship_tag": "ABX9TyPmeQBHMTI41Yty49J3a8HA",
      "include_colab_link": true
    },
    "kernelspec": {
      "name": "python3",
      "display_name": "Python 3"
    },
    "language_info": {
      "name": "python"
    }
  },
  "cells": [
    {
      "cell_type": "markdown",
      "metadata": {
        "id": "view-in-github",
        "colab_type": "text"
      },
      "source": [
        "<a href=\"https://colab.research.google.com/github/Mkhan512/Mkhan512/blob/main/53_self_coding_challenges.ipynb\" target=\"_parent\"><img src=\"https://colab.research.google.com/assets/colab-badge.svg\" alt=\"Open In Colab\"/></a>"
      ]
    },
    {
      "cell_type": "code",
      "source": [
        "def main():\n",
        "    print(\"This program adds two numbers.\")\n",
        "    num1 : str = input(\"Enter first number: \")\n",
        "    num1 : int = int(num1)\n",
        "    num2  : str = input(\"Enter second number: \")\n",
        "    num2 : int = int(num2)\n",
        "    total : int = num1 + num2\n",
        "    print(\"The total is \" + str(total) + \".\")\n",
        "\n",
        "\n",
        "# This provided line is required at the end of\n",
        "# Python file to call the main() function.\n",
        "if __name__ == '__main__':\n",
        "    main()"
      ],
      "metadata": {
        "colab": {
          "base_uri": "https://localhost:8080/"
        },
        "collapsed": true,
        "id": "w548laZ9Oy6T",
        "outputId": "a8e1a296-d650-42b1-c3fb-575395476221"
      },
      "execution_count": 10,
      "outputs": [
        {
          "output_type": "stream",
          "name": "stdout",
          "text": [
            "This program adds two numbers.\n",
            "Enter first number: 12\n",
            "Enter second number: 4\n",
            "The total is 16.\n"
          ]
        }
      ]
    },
    {
      "cell_type": "code",
      "execution_count": 15,
      "metadata": {
        "colab": {
          "base_uri": "https://localhost:8080/"
        },
        "id": "wSehr3aCIjBn",
        "outputId": "fe9216e2-2ab5-4b2e-d4e0-57b2135da041"
      },
      "outputs": [
        {
          "output_type": "stream",
          "name": "stdout",
          "text": [
            "In this Program Addition of two numbers\n",
            "Enter 1st number: 24\n",
            "Enter 2nd number: 28\n",
            "The total is 52.\n"
          ]
        }
      ],
      "source": [
        "#add two numbers\n",
        "def main():\n",
        "    print(\"In this Program Addition of two numbers\")\n",
        "    num1: str= input(\"Enter 1st number: \")\n",
        "    num1: int= int(num1)\n",
        "    num2: str=input(\"Enter 2nd number: \")\n",
        "    num2: int= int(num2)\n",
        "    Total : int= num1 + num2\n",
        "    print(\"The total is \" + str(Total) + \".\")\n",
        "\n",
        "# This provided line is required at the end of\n",
        "# Python file to call the main() function.\n",
        "if __name__ == '__main__':\n",
        "    main()"
      ]
    },
    {
      "cell_type": "code",
      "source": [
        "# 2nd Program print My Favourit animal is:_____\n",
        "def main():\n",
        "\n",
        "   animal: str= input(\"What is Your Favourit Animal:?\")\n",
        "   print(\"My Favourit Animal is: \" + animal + \".\")\n",
        "\n",
        "# This provided line is required at the end of\n",
        "# Python file to call the main() function.\n",
        "if __name__ == '__main__':\n",
        "    main()"
      ],
      "metadata": {
        "colab": {
          "base_uri": "https://localhost:8080/"
        },
        "id": "EBx7KUkgSnsJ",
        "outputId": "9e00267b-d5bd-437a-9c6a-836bc229c537"
      },
      "execution_count": 17,
      "outputs": [
        {
          "output_type": "stream",
          "name": "stdout",
          "text": [
            "What is Your Favourit Animal:?Bull\n",
            "My Favourit Animal is: Bull.\n"
          ]
        }
      ]
    },
    {
      "cell_type": "code",
      "source": [
        "# Prompt the user for a temperature in Fahrenheit\n",
        "degrees_fahrenheit = float(input(\"Enter temperature in Fahrenheit: \"))\n",
        "\n",
        "# Convert Fahrenheit to Celsius\n",
        "degrees_celsius = (degrees_fahrenheit - 32) * 5.0 / 9.0\n",
        "\n",
        "# Display the result\n",
        "print(f\"Temperature: {degrees_fahrenheit}F = {degrees_celsius:.2f}C\") # print celsius in round(2)\n"
      ],
      "metadata": {
        "colab": {
          "base_uri": "https://localhost:8080/"
        },
        "id": "L3K-wwjeT2QV",
        "outputId": "f5d321cf-b34a-4093-f4ab-5a1e9ea3f23d"
      },
      "execution_count": 24,
      "outputs": [
        {
          "output_type": "stream",
          "name": "stdout",
          "text": [
            "Enter temperature in Fahrenheit: 87\n",
            "Temperature: 87.0F = 30.56C\n"
          ]
        }
      ]
    },
    {
      "cell_type": "code",
      "source": [
        "def main():\n",
        "    print(\"This program converts degrees_fahrenheit to Celcius.\")\n",
        "    degrees_fahrenheit = float(input(\"Enter degrees_fahrenheit: \"))\n",
        "    degrees_celcius = (degrees_fahrenheit - 32) * 5.0 / 9.0\n",
        "    print(f\"Temprature is:{degrees_fahrenheit}F ={degrees_celsius}C\")\n",
        "\n",
        "\n",
        "if __name__ == '__main__':\n",
        "    main()"
      ],
      "metadata": {
        "colab": {
          "base_uri": "https://localhost:8080/"
        },
        "id": "Q9iZIYhwaOT6",
        "outputId": "64a85966-8d66-4831-9c26-a84538b2ea39"
      },
      "execution_count": 27,
      "outputs": [
        {
          "output_type": "stream",
          "name": "stdout",
          "text": [
            "This program converts degrees_fahrenheit to Celcius.\n",
            "Enter degrees_fahrenheit: 99\n",
            "Temprature is:99.0F =30.555555555555557C\n"
          ]
        }
      ]
    },
    {
      "cell_type": "code",
      "source": [
        "def main():\n",
        "    print(\"This program print age in Asending order\")\n",
        "    # anton, Beth, Chen, Drew\n",
        "    Anton: int = int(input(\"Enter Anton age: \"))\n",
        "    Beth: int = int(Anton+ 6)\n",
        "    Chen: int = int(Beth+20)\n",
        "    Drew: int = int(Chen+ Anton)\n",
        "\n",
        "    print(f\"Anton age is: {Anton}\")\n",
        "    print(f\"Beth age is: {Beth}\")\n",
        "    print(f\"Chen age is: {Chen}\")\n",
        "    print(f\"Drew age is: {Drew}\")\n",
        "\n",
        "\n",
        "if __name__ == '__main__':\n",
        "    main()\n",
        ""
      ],
      "metadata": {
        "colab": {
          "base_uri": "https://localhost:8080/"
        },
        "id": "e9VNmCtub1zx",
        "outputId": "6e9551db-bd58-42b0-be52-1e3a8eb8a49e"
      },
      "execution_count": 35,
      "outputs": [
        {
          "output_type": "stream",
          "name": "stdout",
          "text": [
            "This program print age in Asending order\n",
            "Enter Anton age: 11\n",
            "Anton age is: 11\n",
            "Beth age is: 17\n",
            "Chen age is: 37\n",
            "Drew age is: 48\n"
          ]
        }
      ]
    },
    {
      "cell_type": "code",
      "source": [
        "# Get the 3 sides Trinagnle\n",
        "def main():\n",
        "    side_A: float = float(input(\"Enter side A: \"))\n",
        "    side_B: float = float(input(\"Enter side B: \"))\n",
        "    side_C: float = float(input(\"Enter side C: \"))\n",
        "    Triangle: float = float(side_A + side_B + side_C)\n",
        "\n",
        "    print(f\"The Perameter of Triangle is : {Triangle}\")\n",
        "\n",
        "if __name__ == '__main__':\n",
        "    main()"
      ],
      "metadata": {
        "colab": {
          "base_uri": "https://localhost:8080/"
        },
        "id": "vrw0HqDpgmlY",
        "outputId": "1108b776-9c83-4f7b-f983-133a19cf9c4a"
      },
      "execution_count": 40,
      "outputs": [
        {
          "output_type": "stream",
          "name": "stdout",
          "text": [
            "Enter side A: 3\n",
            "Enter side B: 4.5\n",
            "Enter side C: 3.5\n",
            "The Perameter of Triangle is : 11.0\n"
          ]
        }
      ]
    },
    {
      "cell_type": "code",
      "source": [
        "def main():\n",
        "    num: float = float(input(\"Type a number to see its square: \")) # Make sure to cast the input to a float so we can do math with it!\n",
        "    print(str(num) + \" squared is \" + str(num ** 2)) # num * num is equivalent to num ** 2. The ** operator raises something to a power!\n",
        "\n",
        "\n",
        "# There is no need to edit code beyond this point\n",
        "\n",
        "if __name__ == '__main__':\n",
        "    main()"
      ],
      "metadata": {
        "colab": {
          "base_uri": "https://localhost:8080/"
        },
        "id": "mnB28o-KkNj2",
        "outputId": "4c7d6087-f4b9-41dd-b8fb-3c0aee9f78d5"
      },
      "execution_count": 41,
      "outputs": [
        {
          "output_type": "stream",
          "name": "stdout",
          "text": [
            "Type a number to see its square: 2\n",
            "2.0 squared is 4.0\n"
          ]
        }
      ]
    },
    {
      "cell_type": "code",
      "source": [
        "def main():\n",
        "    num: float = float(input(\"Enter Number : \"))\n",
        "    num= num**2\n",
        "    print(f\"Squire of this Number is: \",num)\n",
        "\n",
        "if __name__ == '__main__':\n",
        "    main()"
      ],
      "metadata": {
        "colab": {
          "base_uri": "https://localhost:8080/"
        },
        "id": "H3-jZEqjk-YR",
        "outputId": "289a196d-c513-4b44-a711-be9aeac7dc42"
      },
      "execution_count": 45,
      "outputs": [
        {
          "output_type": "stream",
          "name": "stdout",
          "text": [
            "Enter Number : 6\n",
            "Squire of this Number is:  36.0\n"
          ]
        }
      ]
    },
    {
      "cell_type": "code",
      "source": [
        "# Import the random library which lets us simulate random things like dice!\n",
        "import random\n",
        "\n",
        "# Number of sides on each die to roll\n",
        "NUM_SIDES = 6\n",
        "\n",
        "def roll_dice():\n",
        "    \"\"\"\n",
        "    Simulates rolling two dice and prints their total\n",
        "    \"\"\"\n",
        "    die1: int = random.randint(1, NUM_SIDES)\n",
        "    die2: int = random.randint(1, NUM_SIDES)\n",
        "    total: int = die1 + die2\n",
        "    print(\"Total of two dice:\", total)\n",
        "\n",
        "def main():\n",
        "    die1: int = 10\n",
        "    print(\"die1 in main() starts as: \" + str(die1))\n",
        "    roll_dice()\n",
        "    roll_dice()\n",
        "    roll_dice()\n",
        "    print(\"die1 in main() is: \" + str(die1))\n",
        "\n",
        "# This provided line is required at the end of a Python file\n",
        "# to call the main() function.\n",
        "if __name__ == '__main__':\n",
        "    main()"
      ],
      "metadata": {
        "colab": {
          "base_uri": "https://localhost:8080/"
        },
        "id": "j1y6JUJRm7z2",
        "outputId": "3e0f3b83-6a21-4293-abdb-a35d9bd2f8a3"
      },
      "execution_count": 46,
      "outputs": [
        {
          "output_type": "stream",
          "name": "stdout",
          "text": [
            "die1 in main() starts as: 10\n",
            "Total of two dice: 4\n",
            "Total of two dice: 7\n",
            "Total of two dice: 4\n",
            "die1 in main() is: 10\n"
          ]
        }
      ]
    }
  ]
}