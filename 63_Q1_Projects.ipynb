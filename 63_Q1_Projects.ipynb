{
  "nbformat": 4,
  "nbformat_minor": 0,
  "metadata": {
    "colab": {
      "provenance": [],
      "authorship_tag": "ABX9TyMBCk9/PuCHItq0aYO9eWJa",
      "include_colab_link": true
    },
    "kernelspec": {
      "name": "python3",
      "display_name": "Python 3"
    },
    "language_info": {
      "name": "python"
    }
  },
  "cells": [
    {
      "cell_type": "markdown",
      "metadata": {
        "id": "view-in-github",
        "colab_type": "text"
      },
      "source": [
        "<a href=\"https://colab.research.google.com/github/Mkhan512/Mkhan512/blob/main/63_Q1_Projects.ipynb\" target=\"_parent\"><img src=\"https://colab.research.google.com/assets/colab-badge.svg\" alt=\"Open In Colab\"/></a>"
      ]
    },
    {
      "cell_type": "code",
      "execution_count": null,
      "metadata": {
        "id": "H4Y7-pY5A1Tx"
      },
      "outputs": [],
      "source": []
    },
    {
      "cell_type": "markdown",
      "source": [
        "## 1. **Chat Bot**\n",
        "        Write a simple joke bot. The bot starts by asking the user what they want. However, your program will only respond to one response: Joke.\n",
        "\n",
        "If the user enters Joke then we will print out a single joke. Each time the joke is always the same:\n",
        "\n",
        "Here is a joke for you! Panaversity GPT - Sophia is heading out to the grocery store. A programmer tells her: get a liter of milk, and if they have eggs, get 12. Sophia returns with 13 liters of milk. The programmer asks why and Sophia replies: 'because they had eggs'\n",
        "\n",
        "If the user enters anything else we print out:\n",
        "\n",
        "Sorry I only tell jokes\n",
        "\n",
        "You should use the three constants:\n",
        "\n",
        "PROMPT JOKE SORRY\n",
        "\n",
        "which contain the strings for the prompt asked to the user, the joke to print out if the user enters Joke and the sorry message if the user enters anything else.\n",
        "\n",
        "Your program will need to use an if statement which checks if the user input is Joke:\n",
        "\n",
        "if user_input == \"Joke\":\n",
        "\n",
        "Recall that == is a comparison which tests if two values are equal to one another."
      ],
      "metadata": {
        "id": "FOxLpI4BA_Nv"
      }
    },
    {
      "cell_type": "code",
      "source": [
        "PROMPT: str = \"What do you want? \"\n",
        "JOKE: str = \"Here is a joke for you! Sophia is heading out to the grocery store. A programmer tells her: get a liter of milk, and if they have eggs, get 12. Sophia returns with 13 liters of milk. The programmer asks why and Sophia replies: 'because they had eggs'\"\n",
        "SORRY: str = \"Sorry I only tell jokes.\"\n",
        "\n",
        "def jakebot():\n",
        "# I. Get User Input:\n",
        "\n",
        "  user_input = input(PROMPT)\n",
        "  print(user_input)\n",
        "\n",
        "# II. Respond to User Input:\n",
        "\n",
        "  if user_input.lower() == \"joke\":\n",
        "    print(JOKE)\n",
        "  else:\n",
        "   print(SORRY)\n",
        "jakebot()\n",
        ""
      ],
      "metadata": {
        "colab": {
          "base_uri": "https://localhost:8080/"
        },
        "collapsed": true,
        "id": "U_AJU06NBsat",
        "outputId": "fef532ff-17c6-4304-de57-7149b65b78ed"
      },
      "execution_count": 21,
      "outputs": [
        {
          "output_type": "stream",
          "name": "stdout",
          "text": [
            "What do you want? joke\n",
            "joke\n",
            "Here is a joke for you! Sophia is heading out to the grocery store. A programmer tells her: get a liter of milk, and if they have eggs, get 12. Sophia returns with 13 liters of milk. The programmer asks why and Sophia replies: 'because they had eggs'\n"
          ]
        }
      ]
    },
    {
      "cell_type": "markdown",
      "source": [
        "## 2. Double It\n",
        "    Write a program that asks a user to enter a number. Your program will then double that number and print out the result. It will repeat that process until the value is 100 or greater.\n",
        "\n",
        "For example if the user enters the number 2 you would then print:\n",
        "\n",
        "4 8 16 32 64 128\n",
        "\n",
        "Note that:\n",
        "\n",
        "2 doubled is 4\n",
        "\n",
        "4 doubled is 8\n",
        "\n",
        "8 doubled is 16\n",
        "\n",
        "and so on.\n",
        "\n",
        "We stop at 128 because that value is greater than 100.\n",
        "\n",
        "Maintain the current number in a variable named curr_value. When you double the number, you should be updating curr_value. Recall that you can double the value of curr_value using a line like:\n",
        "\n",
        "curr_value = curr_value * 2\n",
        "\n",
        "This program should have a while loop and the while loop condition should test if curr_value is less than 100. Thus, your program will have the line:\n",
        "\n",
        "while curr_value < 100:"
      ],
      "metadata": {
        "id": "06IOg5_yJ9-t"
      }
    },
    {
      "cell_type": "code",
      "source": [
        "# Get User input\n",
        "str: user_input = input(\"Enter a number: \")\n",
        "print(user_input)"
      ],
      "metadata": {
        "id": "LlNkkKsnMc2A"
      },
      "execution_count": null,
      "outputs": []
    },
    {
      "cell_type": "code",
      "source": [
        "# Get User input\n",
        "def double_it():\n",
        "  user_input = (input(\"Enter a number: \"))\n",
        "  print(\"I was a \",type(user_input))\n",
        "  # Type Casting\n",
        "  user_input = int(user_input)\n",
        "  print(\"But Now I am Convert\",type(user_input))\n",
        "\n",
        "  # now print the double value\n",
        "  # Useing while or for loop\n",
        "  while user_input <= 100:\n",
        "    user_input = user_input * 2\n",
        "    print(user_input, end=\" \")\n",
        "double_it()\n"
      ],
      "metadata": {
        "colab": {
          "base_uri": "https://localhost:8080/"
        },
        "collapsed": true,
        "id": "EpLmehAoNYJz",
        "outputId": "e53c97aa-6d2e-4ab4-d31d-cf9cd5f225e6"
      },
      "execution_count": 46,
      "outputs": [
        {
          "output_type": "stream",
          "name": "stdout",
          "text": [
            "Enter a number: 12\n",
            "I was a  <class 'str'>\n",
            "But Now I am Convert <class 'int'>\n",
            "24 48 96 192 "
          ]
        }
      ]
    },
    {
      "cell_type": "markdown",
      "source": [
        "## 3. **Print Out number Liftoff**\n",
        "      Write a program that prints out the calls for a spaceship that is about to launch. Countdown from 10 to 1 and then output Liftoff!\n",
        "\n",
        "Here's a sample run of the program:\n",
        "\n",
        "10 9 8 7 6 5 4 3 2 1 Liftoff!"
      ],
      "metadata": {
        "id": "6HOzDT1US5Y7"
      }
    },
    {
      "cell_type": "code",
      "source": [
        "# Useing for loop\n",
        "def countdown_1():\n",
        "  for i in range(10,0,-1):\n",
        "    print(i, end=\" \")\n",
        "  print(\"Liftoff!\")\n",
        "countdown_1()\n",
        "\n",
        "# Count Down with while loop\n",
        "def countdown_2():\n",
        "  i = 10\n",
        "  while i > 0:\n",
        "    print(i, end=\" \")\n",
        "    i -= 1\n",
        "  print(\"Liftoff!\")\n",
        "countdown_2()\n",
        "# print a List with Countdown\n",
        "number_list = [20,19,18,17,16,15,14,13,12,11]\n",
        "for i in number_list:\n",
        "  print(i , end=\" \")\n",
        "print(\"Count Down List!\")"
      ],
      "metadata": {
        "colab": {
          "base_uri": "https://localhost:8080/"
        },
        "collapsed": true,
        "id": "A2TmkY7zTegv",
        "outputId": "49b319ff-5c83-4916-847f-479de35ced96"
      },
      "execution_count": 58,
      "outputs": [
        {
          "output_type": "stream",
          "name": "stdout",
          "text": [
            "10 9 8 7 6 5 4 3 2 1 Liftoff!\n",
            "10 9 8 7 6 5 4 3 2 1 Liftoff!\n",
            "20 19 18 17 16 15 14 13 12 11 Count Down List!\n"
          ]
        }
      ]
    },
    {
      "cell_type": "markdown",
      "source": [
        "# 4. ***Guess Number***\n",
        "    Guess My Number\n",
        "\n",
        "I am thinking of a number between 0 and 99... Enter a guess: 50 Your guess is too high\n",
        "\n",
        "Enter a new number: 25 Your guess is too low\n",
        "\n",
        "Enter a new number: 40 Your guess is too low\n",
        "\n",
        "Enter a new number: 45 Your guess is too low\n",
        "\n",
        "Enter a new number: 48 Congrats! The number was: 48"
      ],
      "metadata": {
        "id": "swYqVgVDaKu-"
      }
    },
    {
      "cell_type": "code",
      "source": [
        "import random\n",
        "\n",
        "def main():\n",
        "    # Generate the secret number at random!\n",
        "    secret_number: int = random.randint(1, 99)\n",
        "\n",
        "    print(\"I am thinking of a number between 1 and 99...\")\n",
        "\n",
        "    # Get user's guess\n",
        "    guess = int(input(\"Enter a guess: \"))\n",
        "    # True if guess is not equal to secret number\n",
        "    while guess != secret_number:\n",
        "        if guess < secret_number:  # If-statement is True if guess is less than secret number\n",
        "            print(\"Your guess is too low\")\n",
        "        else:\n",
        "            print(\"Your guess is too high\")\n",
        "\n",
        "        print() # Print an empty line to tidy up the console for new guesses\n",
        "        guess: int = int(input(\"Enter a new guess: \"))  # Get a new guess from the user\n",
        "\n",
        "    print(\"Congrats! The number was: \" + str(secret_number))\n",
        "\n",
        "if __name__ == '__main__':\n",
        "    main()\n"
      ],
      "metadata": {
        "colab": {
          "base_uri": "https://localhost:8080/"
        },
        "collapsed": true,
        "id": "h2w3-CpUaJzg",
        "outputId": "addfcd25-cc4e-4df1-b862-ef718d0bf189"
      },
      "execution_count": 59,
      "outputs": [
        {
          "output_type": "stream",
          "name": "stdout",
          "text": [
            "I am thinking of a number between 1 and 99...\n",
            "Enter a guess: 78\n",
            "Your guess is too high\n",
            "\n",
            "Enter a new guess: 34\n",
            "Your guess is too low\n",
            "\n",
            "Enter a new guess: 56\n",
            "Your guess is too low\n",
            "\n",
            "Enter a new guess: 67\n",
            "Your guess is too low\n",
            "\n",
            "Enter a new guess: 0\n",
            "Your guess is too low\n",
            "\n",
            "Enter a new guess: 88\n",
            "Your guess is too high\n",
            "\n",
            "Enter a new guess: 99\n",
            "Your guess is too high\n",
            "\n",
            "Enter a new guess: 70\n",
            "Your guess is too low\n",
            "\n",
            "Enter a new guess: 75\n",
            "Your guess is too high\n",
            "\n",
            "Enter a new guess: 71\n",
            "Your guess is too low\n",
            "\n",
            "Enter a new guess: 72\n",
            "Your guess is too low\n",
            "\n",
            "Enter a new guess: 73\n",
            "Your guess is too low\n",
            "\n",
            "Enter a new guess: 74\n",
            "Congrats! The number was: 74\n"
          ]
        }
      ]
    },
    {
      "cell_type": "markdown",
      "source": [
        "# 5. ***Randomly print 10 numbers 1 to 100***\n",
        "      Print 10 random numbers in the range 1 to 100.\n",
        "\n",
        "Here is an example run:\n",
        "\n",
        "45 79 61 47 52 10 16 83 19 12\n",
        "\n",
        "Each time you run your program you should get different numbers\n",
        "\n",
        "81 76 70 1 27 63 96 100 32 92\n",
        "\n",
        "Recall that the python random library has a function randint which returns an integer in the range set by the parameters (inclusive). For example this call would produce a random integer between 1 and 6, which could include 1 and could include 6:\n",
        "\n",
        "value = random.randint(1, 6)"
      ],
      "metadata": {
        "id": "2aPP1uoLbvAt"
      }
    },
    {
      "cell_type": "code",
      "source": [
        "import random\n",
        "\n",
        "N_NUMBERS: int = 10\n",
        "MIN_VALUE: int = 1\n",
        "MAX_VALUE: int = 100\n",
        "\n",
        "def main():\n",
        "    \"\"\"\n",
        "    You should write your code here. Make sure to delete\n",
        "    the 'pass' line before starting to write your own code.\n",
        "    \"\"\"\n",
        "    pass\n",
        "    for i in range(N_NUMBERS):\n",
        "        print(random.randint(MIN_VALUE, MAX_VALUE), end=\" \")\n",
        "\n",
        "if __name__ == '__main__':\n",
        "    main()\n"
      ],
      "metadata": {
        "colab": {
          "base_uri": "https://localhost:8080/"
        },
        "id": "3T7Mo9ovcGFf",
        "outputId": "c6ca60f2-9818-4ce2-dbfd-501c9c7b077c"
      },
      "execution_count": 60,
      "outputs": [
        {
          "output_type": "stream",
          "name": "stdout",
          "text": [
            "45 2 9 83 100 34 16 36 58 62 "
          ]
        }
      ]
    }
  ]
}